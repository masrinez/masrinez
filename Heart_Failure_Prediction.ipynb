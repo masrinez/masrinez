{
  "nbformat": 4,
  "nbformat_minor": 0,
  "metadata": {
    "colab": {
      "name": "Heart Failure Prediction.ipynb",
      "provenance": [],
      "toc_visible": true,
      "authorship_tag": "ABX9TyMwta3vM5pWqG3XBmcobfNj",
      "include_colab_link": true
    },
    "kernelspec": {
      "name": "python3",
      "display_name": "Python 3"
    },
    "language_info": {
      "name": "python"
    }
  },
  "cells": [
    {
      "cell_type": "markdown",
      "metadata": {
        "id": "view-in-github",
        "colab_type": "text"
      },
      "source": [
        "<a href=\"https://colab.research.google.com/github/masrinez/masrinez/blob/main/Heart_Failure_Prediction.ipynb\" target=\"_parent\"><img src=\"https://colab.research.google.com/assets/colab-badge.svg\" alt=\"Open In Colab\"/></a>"
      ]
    },
    {
      "cell_type": "markdown",
      "source": [
        "# Project: Heart Failure Prediction"
      ],
      "metadata": {
        "id": "88J_Uzk8h-Iy"
      }
    },
    {
      "cell_type": "markdown",
      "source": [
        "**Table** **of** **Contents**\n",
        "\n",
        "Introduction\n",
        "\n",
        "Data Wrangling\n",
        "\n",
        "Exploratory Data Analysis\n",
        "\n",
        "Conclusions"
      ],
      "metadata": {
        "id": "v4PW39yirmp8"
      }
    },
    {
      "cell_type": "markdown",
      "source": [
        "# Introduction"
      ],
      "metadata": {
        "id": "vm_Vl3TjiKNp"
      }
    },
    {
      "cell_type": "markdown",
      "source": [
        "# Dataset Description"
      ],
      "metadata": {
        "id": "k_U3xqSNr0pp"
      }
    },
    {
      "cell_type": "markdown",
      "source": [
        "Rise in health-related issues has made it critical that everyone has easy access to health-care services. However,\n",
        " ***Cardiovascular*** **diseases** (e.g *Hypertension*, *Myocardial* *Infraction*, *Health* *failure*) are the number one cause of death in Nigeria and globally, taking an estimated 17.9 million lives each year, which accounts for 31% of all deaths worlwide.\n",
        "Heart failure is a common event caused by CVDs and this dataset contains 12 features that can be used to predict mortality rate by heart failure.\n",
        "\n",
        "Most cardiovascular diseases can be prevented by addressing behavioural risk factors such as tobacco use, unhealthy diet and obesity, physical inactivity and harmful use of alcohol using population-wide strategies.\n",
        "\n",
        "People with cardiovascular disease or who are at high cardiovascular risk (due to the presence of one or more risk factors such as hypertension, diabetes, hyperlipidaemia or already established disease) need early detection and management wherein a machine learning model can be of great help."
      ],
      "metadata": {
        "id": "qAr65CgniTMo"
      }
    },
    {
      "cell_type": "markdown",
      "source": [
        "# Variables in this Dataset"
      ],
      "metadata": {
        "id": "I-BmzfSesRRZ"
      }
    },
    {
      "cell_type": "markdown",
      "source": [
        "1) \"Age\" = indicates the age of the patient.\n",
        "\n",
        "2) \"Anaemia\" = indicates the lack of enough healthy red blood cells to carry adequate oxygen to your body's tissues.\n",
        "\n",
        "3) \"Creatine - phosphokinase\" = indicates inflammation of muscles (myositis) or muscle damage due to muscle disorders (myopathies) such as muscular dystrophy or to help diagnose rhabdomyolysis if a person has signs and symptoms.\n",
        "\n",
        "4) \"Diabetes\" = indicates a chronic disease that occurs either when the pancreas does not produce enough insulin or when the body cannot effectively use the insulin it produces.\n",
        "\n",
        "5) \"Ejection-Fraction\" = indicates the measurement, expressed as a percentage, of how much blood the left ventricle pumps out with each contraction.\n",
        "\n",
        "6) \"High Blood Pressure\" = indicates condition in which the long-term force of the blood against your artery walls is high enough that it may eventually cause health problems, such as heart disease.\n",
        "\n",
        "7) \"Platelets\" = indicates small, colorless cell fragments in our blood that form clots and stop or prevent bleeding.\n",
        "\n",
        "8) \"Serum_creatinine\" = serum creatinine level is based on a blood test that measures the amount of creatinine in your blood. It tells how well your kidneys are working.\n",
        "\n",
        "9) \"Serum Sodium\" = Sodium is an essential electrolyte that helps maintain the balance of water in and around your cells. It's important for proper muscle and nerve function. It also helps maintain stable blood pressure level.\n",
        "\n",
        "10) \"Sex\" = indicates the gender of the patient\n",
        "\n",
        "11) \"Smoking\" = indicates the act of inhaling and exhaling the fumes of burning plant material by the patients.\n",
        "\n"
      ],
      "metadata": {
        "id": "6ROaAoB9sbEg"
      }
    },
    {
      "cell_type": "markdown",
      "source": [
        "NB//: 1) High Blood Pressure variable will be used as our dependent variable while the others will be used as independent variables"
      ],
      "metadata": {
        "id": "IZTGOnjRzKJ1"
      }
    },
    {
      "cell_type": "markdown",
      "source": [
        "**Question**(**s**) **for** **Analysis**\n",
        "\n",
        "So we will try answering the following questions below:\n",
        "\n",
        "1) Predicting mortality caused by Heart Failure?\n",
        "\n",
        "2) Is Alcohol a major determinant in causing Heart Failure?\n",
        "\n",
        "3) Is there any significant relationship between Ejection fraction and their elevated blood pressure?\n",
        "\n",
        "4) Is there any significant relationship between Anaemia and their elevated blood pressure?\n",
        "\n",
        "5) Is there any significant relationship between Serum  creatinine and their elevated blood pressure?"
      ],
      "metadata": {
        "id": "U0ofDi3tzXHl"
      }
    },
    {
      "cell_type": "markdown",
      "source": [
        "# Acknowledgements"
      ],
      "metadata": {
        "id": "llmtmOmzjYKq"
      }
    },
    {
      "cell_type": "markdown",
      "source": [
        "## Citation\n",
        "\n",
        "Davide Chicco, Giuseppe Jurman: Machine learning can predict survival of patients with heart failure from serum creatinine and ejection fraction alone. BMC Medical Informatics and Decision Making 20, 16 (2020). (link)\n",
        "\n",
        "##License\n",
        "CC BY 4.0\n",
        "\n",
        "##Splash icon\n",
        "Icon by Freepik, available on Flaticon.\n",
        "\n",
        "##Splash banner\n",
        "Wallpaper by jcomp, available on Freepik."
      ],
      "metadata": {
        "id": "azyiBFW5jj0w"
      }
    },
    {
      "cell_type": "markdown",
      "source": [
        "# **Data Wrangling**"
      ],
      "metadata": {
        "id": "pM8_MqNL1R9c"
      }
    },
    {
      "cell_type": "markdown",
      "source": [
        "In this section of the report, we are going to perform the following tasks:\n",
        "\n",
        "1) load in the data.\n",
        "\n",
        "2) check for cleanliness and orderliness.\n",
        "\n",
        "3) trim the dataset.\n",
        "\n",
        "4) clean the dataset for analysis. \n"
      ],
      "metadata": {
        "id": "4XzpRB-R-4YD"
      }
    },
    {
      "cell_type": "markdown",
      "source": [
        "# **Data Gathering**"
      ],
      "metadata": {
        "id": "bfmqujYH2r8Q"
      }
    },
    {
      "cell_type": "code",
      "execution_count": 22,
      "metadata": {
        "id": "-lcI662-aDUY"
      },
      "outputs": [],
      "source": [
        "# import statements for all packages \n",
        "\n",
        "# For Data analysis\n",
        "\n",
        "import pandas as pd\n",
        "import numpy as np\n"
      ]
    },
    {
      "cell_type": "code",
      "source": [
        "# For data Visualization\n",
        "import matplotlib.pyplot as plt\n",
        "import seaborn as sns\n",
        "%matplotlib inline"
      ],
      "metadata": {
        "id": "9TJuZws_mn4U"
      },
      "execution_count": 23,
      "outputs": []
    },
    {
      "cell_type": "code",
      "source": [
        "#For unzipping files\n",
        "\n",
        "import zipfile"
      ],
      "metadata": {
        "id": "KDlQES8JnNjx"
      },
      "execution_count": 3,
      "outputs": []
    },
    {
      "cell_type": "code",
      "source": [
        "# Upgrade pandas to use dataframe.explode() function. \n",
        "\n",
        "!pip install --upgrade pandas==0.25.0"
      ],
      "metadata": {
        "colab": {
          "base_uri": "https://localhost:8080/"
        },
        "id": "QUTK6vnomtSR",
        "outputId": "dc0cc8d9-0dd0-46a5-a19a-db92e9582297"
      },
      "execution_count": 20,
      "outputs": [
        {
          "output_type": "stream",
          "name": "stdout",
          "text": [
            "Looking in indexes: https://pypi.org/simple, https://us-python.pkg.dev/colab-wheels/public/simple/\n",
            "Requirement already satisfied: pandas==0.25.0 in /usr/local/lib/python3.7/dist-packages (0.25.0)\n",
            "Requirement already satisfied: pytz>=2017.2 in /usr/local/lib/python3.7/dist-packages (from pandas==0.25.0) (2022.1)\n",
            "Requirement already satisfied: numpy>=1.13.3 in /usr/local/lib/python3.7/dist-packages (from pandas==0.25.0) (1.21.6)\n",
            "Requirement already satisfied: python-dateutil>=2.6.1 in /usr/local/lib/python3.7/dist-packages (from pandas==0.25.0) (2.8.2)\n",
            "Requirement already satisfied: six>=1.5 in /usr/local/lib/python3.7/dist-packages (from python-dateutil>=2.6.1->pandas==0.25.0) (1.15.0)\n"
          ]
        }
      ]
    },
    {
      "cell_type": "code",
      "source": [
        "#Extract all content from zip file\n",
        "\n",
        "with zipfile.ZipFile('archive.zip', 'r') as myzip:\n",
        "  myzip.extractall()"
      ],
      "metadata": {
        "id": "FWvjgaxBnC4i"
      },
      "execution_count": 21,
      "outputs": []
    },
    {
      "cell_type": "markdown",
      "source": [
        "# General Properties"
      ],
      "metadata": {
        "id": "WW2-8QVh_5N6"
      }
    },
    {
      "cell_type": "markdown",
      "source": [
        "*I am going to avoid performing too many operations in each cell. I am going to Create cells freely to explore my data.*"
      ],
      "metadata": {
        "id": "fxV9w3rJADLR"
      }
    },
    {
      "cell_type": "code",
      "source": [
        "# Loading my data \n",
        "\n",
        "df = pd.read_csv('heart_failure_clinical_records_dataset.csv')\n",
        "\n",
        "#Performing operations to inspect few columns in the dataset\n",
        "\n",
        "df.head(2)\n",
        "\n"
      ],
      "metadata": {
        "colab": {
          "base_uri": "https://localhost:8080/",
          "height": 176
        },
        "id": "M0UfU1-Kn11J",
        "outputId": "4931ff4c-5832-4d3f-a335-b20f1df8cdbf"
      },
      "execution_count": 24,
      "outputs": [
        {
          "output_type": "execute_result",
          "data": {
            "text/plain": [
              "    age  anaemia  creatinine_phosphokinase  diabetes  ejection_fraction  \\\n",
              "0  75.0        0                       582         0                 20   \n",
              "1  55.0        0                      7861         0                 38   \n",
              "\n",
              "   high_blood_pressure  platelets  serum_creatinine  serum_sodium  sex  \\\n",
              "0                    1  265000.00               1.9           130    1   \n",
              "1                    0  263358.03               1.1           136    1   \n",
              "\n",
              "   smoking  time  DEATH_EVENT  \n",
              "0        0     4            1  \n",
              "1        0     6            1  "
            ],
            "text/html": [
              "\n",
              "  <div id=\"df-9ae5e0da-4ede-42a2-ac32-732fc3302159\">\n",
              "    <div class=\"colab-df-container\">\n",
              "      <div>\n",
              "<style scoped>\n",
              "    .dataframe tbody tr th:only-of-type {\n",
              "        vertical-align: middle;\n",
              "    }\n",
              "\n",
              "    .dataframe tbody tr th {\n",
              "        vertical-align: top;\n",
              "    }\n",
              "\n",
              "    .dataframe thead th {\n",
              "        text-align: right;\n",
              "    }\n",
              "</style>\n",
              "<table border=\"1\" class=\"dataframe\">\n",
              "  <thead>\n",
              "    <tr style=\"text-align: right;\">\n",
              "      <th></th>\n",
              "      <th>age</th>\n",
              "      <th>anaemia</th>\n",
              "      <th>creatinine_phosphokinase</th>\n",
              "      <th>diabetes</th>\n",
              "      <th>ejection_fraction</th>\n",
              "      <th>high_blood_pressure</th>\n",
              "      <th>platelets</th>\n",
              "      <th>serum_creatinine</th>\n",
              "      <th>serum_sodium</th>\n",
              "      <th>sex</th>\n",
              "      <th>smoking</th>\n",
              "      <th>time</th>\n",
              "      <th>DEATH_EVENT</th>\n",
              "    </tr>\n",
              "  </thead>\n",
              "  <tbody>\n",
              "    <tr>\n",
              "      <th>0</th>\n",
              "      <td>75.0</td>\n",
              "      <td>0</td>\n",
              "      <td>582</td>\n",
              "      <td>0</td>\n",
              "      <td>20</td>\n",
              "      <td>1</td>\n",
              "      <td>265000.00</td>\n",
              "      <td>1.9</td>\n",
              "      <td>130</td>\n",
              "      <td>1</td>\n",
              "      <td>0</td>\n",
              "      <td>4</td>\n",
              "      <td>1</td>\n",
              "    </tr>\n",
              "    <tr>\n",
              "      <th>1</th>\n",
              "      <td>55.0</td>\n",
              "      <td>0</td>\n",
              "      <td>7861</td>\n",
              "      <td>0</td>\n",
              "      <td>38</td>\n",
              "      <td>0</td>\n",
              "      <td>263358.03</td>\n",
              "      <td>1.1</td>\n",
              "      <td>136</td>\n",
              "      <td>1</td>\n",
              "      <td>0</td>\n",
              "      <td>6</td>\n",
              "      <td>1</td>\n",
              "    </tr>\n",
              "  </tbody>\n",
              "</table>\n",
              "</div>\n",
              "      <button class=\"colab-df-convert\" onclick=\"convertToInteractive('df-9ae5e0da-4ede-42a2-ac32-732fc3302159')\"\n",
              "              title=\"Convert this dataframe to an interactive table.\"\n",
              "              style=\"display:none;\">\n",
              "        \n",
              "  <svg xmlns=\"http://www.w3.org/2000/svg\" height=\"24px\"viewBox=\"0 0 24 24\"\n",
              "       width=\"24px\">\n",
              "    <path d=\"M0 0h24v24H0V0z\" fill=\"none\"/>\n",
              "    <path d=\"M18.56 5.44l.94 2.06.94-2.06 2.06-.94-2.06-.94-.94-2.06-.94 2.06-2.06.94zm-11 1L8.5 8.5l.94-2.06 2.06-.94-2.06-.94L8.5 2.5l-.94 2.06-2.06.94zm10 10l.94 2.06.94-2.06 2.06-.94-2.06-.94-.94-2.06-.94 2.06-2.06.94z\"/><path d=\"M17.41 7.96l-1.37-1.37c-.4-.4-.92-.59-1.43-.59-.52 0-1.04.2-1.43.59L10.3 9.45l-7.72 7.72c-.78.78-.78 2.05 0 2.83L4 21.41c.39.39.9.59 1.41.59.51 0 1.02-.2 1.41-.59l7.78-7.78 2.81-2.81c.8-.78.8-2.07 0-2.86zM5.41 20L4 18.59l7.72-7.72 1.47 1.35L5.41 20z\"/>\n",
              "  </svg>\n",
              "      </button>\n",
              "      \n",
              "  <style>\n",
              "    .colab-df-container {\n",
              "      display:flex;\n",
              "      flex-wrap:wrap;\n",
              "      gap: 12px;\n",
              "    }\n",
              "\n",
              "    .colab-df-convert {\n",
              "      background-color: #E8F0FE;\n",
              "      border: none;\n",
              "      border-radius: 50%;\n",
              "      cursor: pointer;\n",
              "      display: none;\n",
              "      fill: #1967D2;\n",
              "      height: 32px;\n",
              "      padding: 0 0 0 0;\n",
              "      width: 32px;\n",
              "    }\n",
              "\n",
              "    .colab-df-convert:hover {\n",
              "      background-color: #E2EBFA;\n",
              "      box-shadow: 0px 1px 2px rgba(60, 64, 67, 0.3), 0px 1px 3px 1px rgba(60, 64, 67, 0.15);\n",
              "      fill: #174EA6;\n",
              "    }\n",
              "\n",
              "    [theme=dark] .colab-df-convert {\n",
              "      background-color: #3B4455;\n",
              "      fill: #D2E3FC;\n",
              "    }\n",
              "\n",
              "    [theme=dark] .colab-df-convert:hover {\n",
              "      background-color: #434B5C;\n",
              "      box-shadow: 0px 1px 3px 1px rgba(0, 0, 0, 0.15);\n",
              "      filter: drop-shadow(0px 1px 2px rgba(0, 0, 0, 0.3));\n",
              "      fill: #FFFFFF;\n",
              "    }\n",
              "  </style>\n",
              "\n",
              "      <script>\n",
              "        const buttonEl =\n",
              "          document.querySelector('#df-9ae5e0da-4ede-42a2-ac32-732fc3302159 button.colab-df-convert');\n",
              "        buttonEl.style.display =\n",
              "          google.colab.kernel.accessAllowed ? 'block' : 'none';\n",
              "\n",
              "        async function convertToInteractive(key) {\n",
              "          const element = document.querySelector('#df-9ae5e0da-4ede-42a2-ac32-732fc3302159');\n",
              "          const dataTable =\n",
              "            await google.colab.kernel.invokeFunction('convertToInteractive',\n",
              "                                                     [key], {});\n",
              "          if (!dataTable) return;\n",
              "\n",
              "          const docLinkHtml = 'Like what you see? Visit the ' +\n",
              "            '<a target=\"_blank\" href=https://colab.research.google.com/notebooks/data_table.ipynb>data table notebook</a>'\n",
              "            + ' to learn more about interactive tables.';\n",
              "          element.innerHTML = '';\n",
              "          dataTable['output_type'] = 'display_data';\n",
              "          await google.colab.output.renderOutput(dataTable, element);\n",
              "          const docLink = document.createElement('div');\n",
              "          docLink.innerHTML = docLinkHtml;\n",
              "          element.appendChild(docLink);\n",
              "        }\n",
              "      </script>\n",
              "    </div>\n",
              "  </div>\n",
              "  "
            ]
          },
          "metadata": {},
          "execution_count": 24
        }
      ]
    },
    {
      "cell_type": "code",
      "source": [
        "#getting information on the characteristices of each attributes in the data\n",
        "\n",
        "df.info"
      ],
      "metadata": {
        "colab": {
          "base_uri": "https://localhost:8080/"
        },
        "id": "DWsRFr9loP2u",
        "outputId": "11a9df09-2083-4a4f-a1dd-c7c55c9e911b"
      },
      "execution_count": 36,
      "outputs": [
        {
          "output_type": "execute_result",
          "data": {
            "text/plain": [
              "<bound method DataFrame.info of       age  anaemia  creatinine_phosphokinase  diabetes  ejection_fraction  \\\n",
              "0    75.0        0                       582         0                 20   \n",
              "1    55.0        0                      7861         0                 38   \n",
              "2    65.0        0                       146         0                 20   \n",
              "3    50.0        1                       111         0                 20   \n",
              "4    65.0        1                       160         1                 20   \n",
              "..    ...      ...                       ...       ...                ...   \n",
              "294  62.0        0                        61         1                 38   \n",
              "295  55.0        0                      1820         0                 38   \n",
              "296  45.0        0                      2060         1                 60   \n",
              "297  45.0        0                      2413         0                 38   \n",
              "298  50.0        0                       196         0                 45   \n",
              "\n",
              "     high_blood_pressure  platelets  serum_creatinine  serum_sodium  sex  \\\n",
              "0                      1  265000.00               1.9           130    1   \n",
              "1                      0  263358.03               1.1           136    1   \n",
              "2                      0  162000.00               1.3           129    1   \n",
              "3                      0  210000.00               1.9           137    1   \n",
              "4                      0  327000.00               2.7           116    0   \n",
              "..                   ...        ...               ...           ...  ...   \n",
              "294                    1  155000.00               1.1           143    1   \n",
              "295                    0  270000.00               1.2           139    0   \n",
              "296                    0  742000.00               0.8           138    0   \n",
              "297                    0  140000.00               1.4           140    1   \n",
              "298                    0  395000.00               1.6           136    1   \n",
              "\n",
              "     smoking  time  DEATH_EVENT  \n",
              "0          0     4            1  \n",
              "1          0     6            1  \n",
              "2          1     7            1  \n",
              "3          0     7            1  \n",
              "4          0     8            1  \n",
              "..       ...   ...          ...  \n",
              "294        1   270            0  \n",
              "295        0   271            0  \n",
              "296        0   278            0  \n",
              "297        1   280            0  \n",
              "298        1   285            0  \n",
              "\n",
              "[299 rows x 13 columns]>"
            ]
          },
          "metadata": {},
          "execution_count": 36
        }
      ]
    },
    {
      "cell_type": "code",
      "source": [
        "#checking the size of the dataset\n",
        "df.shape"
      ],
      "metadata": {
        "colab": {
          "base_uri": "https://localhost:8080/"
        },
        "id": "m_dxZ7ZkFTsv",
        "outputId": "516ff85e-45c6-4783-beac-52368ddd0cbe"
      },
      "execution_count": 30,
      "outputs": [
        {
          "output_type": "execute_result",
          "data": {
            "text/plain": [
              "(299, 13)"
            ]
          },
          "metadata": {},
          "execution_count": 30
        }
      ]
    },
    {
      "cell_type": "markdown",
      "source": [
        "# **The Dataset I am working on possess:**"
      ],
      "metadata": {
        "id": "dxw3TBU3JjS5"
      }
    },
    {
      "cell_type": "markdown",
      "source": [
        "1) 299 records/rows\n",
        "\n",
        "2) 13 Fields/Column "
      ],
      "metadata": {
        "id": "lBDlsLxQJr94"
      }
    },
    {
      "cell_type": "code",
      "source": [
        "df.dtypes"
      ],
      "metadata": {
        "colab": {
          "base_uri": "https://localhost:8080/"
        },
        "id": "Slg8emXRGjjY",
        "outputId": "fa2ec6e4-cb65-47fc-ce32-d9b719fa87d5"
      },
      "execution_count": 33,
      "outputs": [
        {
          "output_type": "execute_result",
          "data": {
            "text/plain": [
              "age                         float64\n",
              "anaemia                       int64\n",
              "creatinine_phosphokinase      int64\n",
              "diabetes                      int64\n",
              "ejection_fraction             int64\n",
              "high_blood_pressure           int64\n",
              "platelets                   float64\n",
              "serum_creatinine            float64\n",
              "serum_sodium                  int64\n",
              "sex                           int64\n",
              "smoking                       int64\n",
              "time                          int64\n",
              "DEATH_EVENT                   int64\n",
              "dtype: object"
            ]
          },
          "metadata": {},
          "execution_count": 33
        }
      ]
    }
  ]
}